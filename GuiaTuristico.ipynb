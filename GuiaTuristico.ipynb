{
 "cells": [
  {
   "cell_type": "code",
   "execution_count": 2,
   "id": "b19ce16b",
   "metadata": {},
   "outputs": [
    {
     "name": "stderr",
     "output_type": "stream",
     "text": [
      "c:\\Users\\Amanda\\anaconda3\\envs\\guia_inteligente_viagem\\lib\\site-packages\\langchain_pinecone\\__init__.py:3: LangChainDeprecationWarning: As of langchain-core 0.3.0, LangChain uses pydantic v2 internally. The langchain_core.pydantic_v1 module was a compatibility shim for pydantic v1, and should no longer be used. Please update the code to import from Pydantic directly.\n",
      "\n",
      "For example, replace imports like: `from langchain_core.pydantic_v1 import BaseModel`\n",
      "with: `from pydantic import BaseModel`\n",
      "or the v1 compatibility namespace if you are working in a code base that has not been fully upgraded to pydantic 2 yet. \tfrom pydantic.v1 import BaseModel\n",
      "\n",
      "  from langchain_pinecone.vectorstores import Pinecone, PineconeVectorStore\n"
     ]
    }
   ],
   "source": [
    "import os\n",
    "import time\n",
    "import json\n",
    "from dotenv import load_dotenv\n",
    "from langchain_groq import ChatGroq\n",
    "from langchain_core.prompts import ChatPromptTemplate\n",
    "from langchain_core.output_parsers import StrOutputParser\n",
    "from langchain_huggingface import HuggingFaceEmbeddings\n",
    "from pinecone import Pinecone\n",
    "from langchain_pinecone import PineconeVectorStore\n",
    "from langchain_community.embeddings import HuggingFaceEmbeddings as CommunityHuggingFaceEmbeddings\n",
    "from langchain_community.document_loaders import TextLoader\n",
    "from langchain_core.runnables import RunnablePassthrough, RunnableLambda\n",
    "from langchain.chains import LLMChain"
   ]
  },
  {
   "cell_type": "code",
   "execution_count": 3,
   "id": "1e4795cb",
   "metadata": {},
   "outputs": [
    {
     "name": "stderr",
     "output_type": "stream",
     "text": [
      "C:\\Users\\Amanda\\AppData\\Local\\Temp\\ipykernel_7768\\3810665054.py:6: LangChainDeprecationWarning: The class `HuggingFaceEmbeddings` was deprecated in LangChain 0.2.2 and will be removed in 1.0. An updated version of the class exists in the :class:`~langchain-huggingface package and should be used instead. To use it run `pip install -U :class:`~langchain-huggingface` and import as `from :class:`~langchain_huggingface import HuggingFaceEmbeddings``.\n",
      "  embeddings = CommunityHuggingFaceEmbeddings(model_name=\"sentence-transformers/all-MiniLM-L6-v2\")\n"
     ]
    }
   ],
   "source": [
    "load_dotenv()\n",
    "\n",
    "# Configura o LLM da Groq e o modelo de embeddings do Hugging Face\n",
    "llm = ChatGroq(model_name=\"llama-3.1-8b-instant\", temperature=0.7)\n",
    "llm_router = ChatGroq(model_name=\"llama-3.1-8b-instant\", temperature=0)\n",
    "embeddings = CommunityHuggingFaceEmbeddings(model_name=\"sentence-transformers/all-MiniLM-L6-v2\")\n",
    "\n",
    "# Conecta-se ao Pinecone\n",
    "pc = Pinecone(api_key=os.getenv(\"PINECONE_API_KEY\"))\n",
    "index_name = \"travel-assistant-index\"\n",
    "vectorstore = PineconeVectorStore(index_name=index_name, embedding=embeddings)\n",
    "\n",
    "# Função auxiliar para formatar os documentos de contexto\n",
    "def format_docs(docs):\n",
    "    return \"\\n\\n\".join(doc.page_content for doc in docs)"
   ]
  },
  {
   "cell_type": "code",
   "execution_count": null,
   "id": "0b18010f",
   "metadata": {},
   "outputs": [],
   "source": [
    "itinerary_prompt = ChatPromptTemplate.from_template(\"\"\"\n",
    "    Você é um assistente de viagens especializado em criar roteiros detalhados.\n",
    "    Use o contexto abaixo para gerar um roteiro de viagem personalizado para o usuário.\n",
    "    Contexto: {context}\n",
    "    Pergunta do usuário: {question}\n",
    "    Responda em formato de roteiro com dias, horários e sugestões de atividades.\n",
    "    Roteiro:\"\"\")\n",
    "\n",
    "logistics_prompt = ChatPromptTemplate.from_template(\"\"\"\n",
    "    Você é um assistente de viagens focado em logística e transporte.\n",
    "    Responda à pergunta do usuário de forma direta, prática e objetiva.\n",
    "    Pergunta do usuário: {question}\n",
    "    Resposta:\"\"\")\n",
    "\n",
    "local_info_prompt = ChatPromptTemplate.from_template(\"\"\"\n",
    "    Você é um especialista em informações locais e turismo.\n",
    "    Use o contexto abaixo para responder à pergunta do usuário de forma clara e objetiva.\n",
    "    Contexto: {context}\n",
    "    Pergunta do usuário: {question}\n",
    "    Responda de forma direta e concisa. Se a informação não estiver disponível, diga que não sabe.\n",
    "    Informação:\"\"\")\n",
    "\n",
    "translation_prompt = ChatPromptTemplate.from_template(\"\"\"\n",
    "    Você é um assistente de tradução e guia de frases úteis para viagens.\n",
    "    Traduza a frase do usuário.\n",
    "    Exemplo: \"Onde fica o banheiro?\" -> \"Where is the bathroom?\"\n",
    "    Frase do usuário: {question}\n",
    "    Tradução/Frase:\"\"\")\n",
    "\n",
    "# Cadeias \n",
    "itinerary_chain = ({\n",
    "    \"context\": RunnableLambda(lambda x: vectorstore.as_retriever(search_kwargs={\"filter\": x.get(\"filtros\", {})}).invoke(x[\"question\"])) | RunnableLambda(format_docs),\n",
    "    \"question\": RunnablePassthrough()\n",
    "} | itinerary_prompt | llm | StrOutputParser())\n",
    "\n",
    "logistics_chain = ({ \"question\": RunnablePassthrough() } | logistics_prompt | llm | StrOutputParser())\n",
    "\n",
    "local_info_chain = ({\n",
    "    \"context\": RunnableLambda(lambda x: vectorstore.as_retriever(search_kwargs={\"filter\": x.get(\"filtros\", {})}).invoke(x[\"question\"])) | RunnableLambda(format_docs),\n",
    "    \"question\": RunnablePassthrough()\n",
    "} | local_info_prompt | llm | StrOutputParser())\n",
    "\n",
    "translation_chain = ({ \"question\": RunnablePassthrough() } | translation_prompt | llm | StrOutputParser())\n",
    "\n",
    "# Prompt e Cadeia do Roteador \n",
    "router_template_simples = \"\"\"\n",
    "    Sua tarefa é classificar uma consulta de usuário em uma das seguintes especialidades.\n",
    "    Você deve retornar APENAS O NOME DA ESPECIALIDADE, sem qualquer outra palavra, explicação ou pontuação.\n",
    "\n",
    "    Especialidades:\n",
    "    - roteiro_viagem\n",
    "    - logistica_transporte\n",
    "    - informacao_local\n",
    "    - traducao_idiomas\n",
    "\n",
    "    Consulta: {query}\n",
    "    Especialidade:\n",
    "\"\"\"\n",
    "router_prompt_simples = ChatPromptTemplate.from_template(router_template_simples)\n",
    "router_chain = LLMChain(llm=llm_router, prompt=router_prompt_simples, output_parser=StrOutputParser())\n"
   ]
  },
  {
   "cell_type": "code",
   "execution_count": null,
   "id": "972c5132",
   "metadata": {},
   "outputs": [],
   "source": [
    "class GuiaTurismoInteligente:\n",
    "    def __init__(self):\n",
    "        # Mapeia as cadeias para o roteador\n",
    "        self.destination_chains = {\n",
    "            \"roteiro_viagem\": itinerary_chain,\n",
    "            \"logistica_transporte\": logistics_chain,\n",
    "            \"informacao_local\": local_info_chain,\n",
    "            \"traducao_idiomas\": translation_chain,\n",
    "        }\n",
    "        # Incializa a cadeia do roteador\n",
    "        self.router_chain = router_chain\n",
    "        \n",
    "        self.stats = {\n",
    "            'consultas_total': 0,\n",
    "            'por_especialidade': {'roteiro_viagem': 0, 'logistica_transporte': 0, 'informacao_local': 0, 'traducao_idiomas': 0, 'desconhecido': 0},\n",
    "            'tempo_medio': 0,\n",
    "            'historico': []\n",
    "        }\n",
    "\n",
    "    def processar_consulta(self, pergunta: str) -> str:\n",
    "        start_time = time.time()\n",
    "        \n",
    "        try:\n",
    "            # 1. Roteamento: Roda o roteador para obter a especialidade\n",
    "            especialidade = self.router_chain.run(query=pergunta).strip().lower()\n",
    "            \n",
    "            # 2. Lógica de Fallback (para tratar saídas inesperadas do LLM)\n",
    "            if especialidade not in self.destination_chains:\n",
    "                print(f\"Assistente: Roteador retornou '{especialidade}'. Usando fallback.\")\n",
    "                self.stats['por_especialidade']['desconhecido'] += 1\n",
    "                return \"Desculpe, não consegui entender a sua solicitação. Por favor, tente novamente de forma diferente.\"\n",
    "\n",
    "            # 3. Executar a cadeia correta\n",
    "            chain = self.destination_chains[especialidade]\n",
    "            \n",
    "            # As cadeias de RAG precisam de um dicionário como input\n",
    "            if especialidade in [\"roteiro_viagem\", \"informacao_local\"]:\n",
    "                response = chain.invoke({\"question\": pergunta, \"filtros\": {}})\n",
    "            else:\n",
    "                response = chain.invoke({\"question\": pergunta})\n",
    "\n",
    "            # 4. Atualizar as estatísticas\n",
    "            tempo_processamento = time.time() - start_time\n",
    "            self.stats['consultas_total'] += 1\n",
    "            self.stats['por_especialidade'][especialidade] += 1\n",
    "            self.stats['tempo_medio'] = (\n",
    "                (self.stats['tempo_medio'] * (self.stats['consultas_total'] - 1) + tempo_processamento) / \n",
    "                self.stats['consultas_total']\n",
    "            )\n",
    "            \n",
    "            print(f\"Assistente: 🎯 Roteado para '{especialidade}'. Tempo: {tempo_processamento:.2f}s\")\n",
    "            \n",
    "            return response\n",
    "            \n",
    "        except Exception as e:\n",
    "            print(f\"Assistente: Ocorreu um erro: {e}\")\n",
    "            return \"Desculpe, ocorreu um erro. Por favor, tente novamente mais tarde.\"\n"
   ]
  },
  {
   "cell_type": "code",
   "execution_count": 8,
   "id": "17a188a7",
   "metadata": {},
   "outputs": [
    {
     "name": "stdout",
     "output_type": "stream",
     "text": [
      "Assistente: 🎯 Roteado para 'roteiro_viagem'. Tempo: 2.85s\n",
      "---\n",
      "💬 Pergunta: Crie um roteiro cultural de 3 dias em Paris.\n",
      "🤖 Resposta: **Roteiro Cultural de 3 Dias em Paris**\n",
      "\n",
      "**Dia 1: Arte e História**\n",
      "\n",
      "* 9:00 - 10:00: Inicie o dia visitando o **Museu do Louvre** (Metro: Palais-Royal–Musée du Louvre). Gaste cerca de 2 horas explorando as obras-primas como a Mona Lisa e a Vênus de Milo.\n",
      "* 10:30 - 12:30: Após visitar o Louvre, caminhe até a **Catedral de Notre-Dame** (Metro: Cité). Aproveite para observar a arquitetura gótica e o ambiente histórico.\n",
      "* 13:00 - 14:30: Almoce no **Le Jules Verne** (Torre Eiffel), um restaurante gourmet localizado na Torre Eiffel. Desfrute de uma vista espetacular enquanto saborea a culinária francesa.\n",
      "* 15:00 - 17:00: Visite o **Montmartre e a Basílica de Sacré-Cœur** (Metro: Anvers ou Blanche). Explore as ruas estreitas e artísticas do bairro, e suba até a basílica para desfrutar de uma vista incrível de Paris.\n",
      "\n",
      "**Dia 2: Arquitetura e História**\n",
      "\n",
      "* 9:30 - 11:30: Inicie o dia visitando o **Arco do Triunfo** (Metro: Charles de Gaulle–Étoile). Aproveite para observar a arquitetura monumental e a história da França.\n",
      "* 12:00 - 13:30: Almoce no **Le Bouillon Chartier** (Metro: Gare du Nord), um restaurante tradicional e acessível.\n",
      "* 14:00 - 16:00: Visite a **Champs-Élysées** (Metro: Charles de Gaulle–Étoile ou Franklin D. Roosevelt), a mais famosa avenida de Paris. Caminhe pelas ruas estreitas e explore as lojas e cinemas.\n",
      "* 17:00 - 19:00: Visite o **Museu do Orsay** (Metro: Solférino), que abriga uma coleção impressionante de arte impressionista e pós-impressionista. Aproveite para observar obras de Monet, Renoir e Van Gogh.\n",
      "\n",
      "**Dia 3: Arte e Cultura**\n",
      "\n",
      "* 10:00 - 12:00: Visite o **Museu Rodin** (Metro: Varenne), que abriga uma coleção impressionante de esculturas de Auguste Rodin. Aproveite para observar obras como \"O Pensador\" e \"A Dança\".\n",
      "* 13:00 - 14:30: Almoce no **Confeitaria Angelina** (Metro: Saint-Germain-des-Prés), famosa pelo seu chocolate quente.\n",
      "* 15:00 - 17:00: Visite o **Bairro Latino** (Metro: Odéon ou Saint-Michel), um bairro vibrante e artístico. Explore as ruas estreitas e descubra lojas, cafés e restaurantes.\n",
      "* 18:00 - 20:00: Conclua o dia com uma visita ao **Café de Flore** (Metro: Saint-Germain-des-Prés), um dos mais famosos cafés de Paris. Aproveite para observar a vida noturna da cidade e desfrutar de um café ou um drinque.\n",
      "\n",
      "Lembre-se de verificar os horários e os preços dos atrações e restaurantes antes de visitar. Além disso, certifique-se de ter um passe de transporte público para facilitar sua navegação pela cidade.\n"
     ]
    }
   ],
   "source": [
    "# Teste de Roteiro de Viagem\n",
    "guia = GuiaTurismoInteligente()\n",
    "pergunta = \"Crie um roteiro cultural de 3 dias em Paris.\"\n",
    "resposta = guia.processar_consulta(pergunta)\n",
    "print(f\"---\")\n",
    "print(f\"💬 Pergunta: {pergunta}\")\n",
    "print(f\"🤖 Resposta: {resposta}\")"
   ]
  },
  {
   "cell_type": "code",
   "execution_count": null,
   "id": "18119a82",
   "metadata": {},
   "outputs": [
    {
     "name": "stdout",
     "output_type": "stream",
     "text": [
      "Assistente: 🎯 Roteado para 'informacao_local'. Tempo: 1.44s\n",
      "---\n",
      "💬 Pergunta: Como chegar ao Coliseu?\n",
      "🤖 Resposta: Para chegar ao Coliseu, você pode utilizar o transporte público, como ônibus ou metrô. A estação de metro mais próxima é Colosseo, que fica a poucos minutos a pé do Coliseu. Além disso, você também pode caminhar a partir da Piazza Venezia ou utilizar táxi ou aplicativos de transporte.\n"
     ]
    }
   ],
   "source": [
    "# Teste de Informação Local\n",
    "guia = GuiaTurismoInteligente()\n",
    "pergunta = \"Como chegar ao Coliseu?\"\n",
    "resposta = guia.processar_consulta(pergunta)\n",
    "print(f\"---\")\n",
    "print(f\"💬 Pergunta: {pergunta}\")\n",
    "print(f\"🤖 Resposta: {resposta}\")"
   ]
  },
  {
   "cell_type": "code",
   "execution_count": null,
   "id": "d812b442",
   "metadata": {},
   "outputs": [
    {
     "name": "stdout",
     "output_type": "stream",
     "text": [
      "Assistente: 🎯 Roteado para 'traducao_idiomas'. Tempo: 1.30s\n",
      "---\n",
      "💬 Pergunta: Traduza a frase 'muito obrigado pela ajuda' para o italiano.\n",
      "🤖 Resposta: Muito obrigado pela ajuda -> Grazie mille per l'aiuto.\n",
      "\n",
      "Nota: 'Grazie mille' é uma expressão italiana que significa 'muito obrigado' ou 'muito obrigada', e 'per l'aiuto' significa 'pela ajuda'.\n"
     ]
    }
   ],
   "source": [
    "# Teste de Tradução\n",
    "guia = GuiaTurismoInteligente()\n",
    "pergunta = \"Traduza a frase 'muito obrigado pela ajuda' para o italiano.\"\n",
    "resposta = guia.processar_consulta(pergunta)\n",
    "print(f\"---\")\n",
    "print(f\"💬 Pergunta: {pergunta}\")\n",
    "print(f\"🤖 Resposta: {resposta}\")"
   ]
  },
  {
   "cell_type": "code",
   "execution_count": null,
   "id": "0d7ec30b",
   "metadata": {},
   "outputs": [
    {
     "name": "stdout",
     "output_type": "stream",
     "text": [
      "Assistente: 🎯 Roteado para 'logistica_transporte'. Tempo: 1.38s\n",
      "---\n",
      "💬 Pergunta: Melhor forma de transporte em Tóquio?\n",
      "🤖 Resposta: Em Tóquio, a melhor forma de transporte depende do seu destino e preferências pessoais. No entanto, aqui estão algumas opções populares:\n",
      "\n",
      "- **Metro**: O sistema de metrô em Tóquio é um dos mais eficientes do mundo. É uma opção rápida e econômica para se deslocar pela cidade.\n",
      "- **Trens**: Os trens são outra opção popular em Tóquio. Eles cobrem uma grande área da cidade e são frequentes.\n",
      "- **Ônibus**: Os ônibus são uma opção mais barata em comparação com o metrô ou trens, mas podem ser mais lentos.\n",
      "- **Táxi**: Os táxis são uma opção conveniente, especialmente à noite, mas podem ser mais caros do que as outras opções.\n",
      "- **Bicicleta**: Tóquio tem uma rede de bicicletas compartilhadas e uma lei que permite a circulação de bicicletas em algumas ruas.\n",
      "\n",
      "Se você estiver procurando por uma opção rápida e conveniente, recomendo usar o metrô. Se você estiver com orçamento limitado, os ônibus podem ser uma opção mais acessível. E se você preferir uma experiência mais autônoma, considere alugar uma bicicleta.\n"
     ]
    }
   ],
   "source": [
    "# Teste de Logística\n",
    "guia = GuiaTurismoInteligente()\n",
    "pergunta = \"Melhor forma de transporte em Tóquio?\"\n",
    "resposta = guia.processar_consulta(pergunta)\n",
    "print(f\"---\")\n",
    "print(f\"💬 Pergunta: {pergunta}\")\n",
    "print(f\"🤖 Resposta: {resposta}\")"
   ]
  }
 ],
 "metadata": {
  "kernelspec": {
   "display_name": "Projeto de Viagem",
   "language": "python",
   "name": "guia_inteligente_viagem"
  },
  "language_info": {
   "codemirror_mode": {
    "name": "ipython",
    "version": 3
   },
   "file_extension": ".py",
   "mimetype": "text/x-python",
   "name": "python",
   "nbconvert_exporter": "python",
   "pygments_lexer": "ipython3",
   "version": "3.10.18"
  }
 },
 "nbformat": 4,
 "nbformat_minor": 5
}
