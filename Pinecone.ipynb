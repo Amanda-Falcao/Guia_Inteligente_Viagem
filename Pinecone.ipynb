{
 "cells": [
  {
   "cell_type": "code",
   "execution_count": 1,
   "id": "e22650bf",
   "metadata": {},
   "outputs": [],
   "source": [
    "import os\n",
    "from dotenv import load_dotenv\n",
    "from pinecone import Pinecone, ServerlessSpec"
   ]
  },
  {
   "cell_type": "code",
   "execution_count": 2,
   "id": "ff65942b",
   "metadata": {},
   "outputs": [],
   "source": [
    "load_dotenv()\n",
    "\n",
    "api_key = os.getenv(\"PINECONE_API_KEY\")\n",
    "pc = Pinecone(api_key=api_key)\n",
    "index_name = \"travel-assistant-index\"\n",
    "if not api_key:\n",
    "    raise ValueError(\"PINECONE_API_KEY must be set in the .env file\")\n"
   ]
  },
  {
   "cell_type": "code",
   "execution_count": 3,
   "id": "555598d7",
   "metadata": {},
   "outputs": [
    {
     "name": "stdout",
     "output_type": "stream",
     "text": [
      "Índice 'travel-assistant-index' já existe.\n"
     ]
    }
   ],
   "source": [
    "if index_name not in pc.list_indexes().names():\n",
    "    print(f\"Criando o índice '{index_name}'...\")\n",
    "    pc.create_index(\n",
    "        name=index_name,\n",
    "        dimension=384,\n",
    "        metric=\"cosine\",\n",
    "        spec=ServerlessSpec(cloud=\"aws\", region=\"us-east-1\")\n",
    "    )\n",
    "    print(f\"Índice '{index_name}' criado com sucesso.\")\n",
    "else:\n",
    "    print(f\"Índice '{index_name}' já existe.\")"
   ]
  }
 ],
 "metadata": {
  "kernelspec": {
   "display_name": "Projeto de Viagem",
   "language": "python",
   "name": "guia_inteligente_viagem"
  },
  "language_info": {
   "codemirror_mode": {
    "name": "ipython",
    "version": 3
   },
   "file_extension": ".py",
   "mimetype": "text/x-python",
   "name": "python",
   "nbconvert_exporter": "python",
   "pygments_lexer": "ipython3",
   "version": "3.10.18"
  }
 },
 "nbformat": 4,
 "nbformat_minor": 5
}
