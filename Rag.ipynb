{
 "cells": [
  {
   "cell_type": "code",
   "execution_count": 1,
   "id": "02a7f507",
   "metadata": {},
   "outputs": [],
   "source": [
    "import os\n",
    "from dotenv import load_dotenv\n",
    "from langchain_community.document_loaders import TextLoader\n",
    "from langchain_text_splitters import RecursiveCharacterTextSplitter\n",
    "from langchain_huggingface import HuggingFaceEmbeddings\n",
    "from pinecone import Pinecone\n",
    "from langchain_community.embeddings import HuggingFaceEmbeddings as CommunityHuggingFaceEmbeddings"
   ]
  },
  {
   "cell_type": "code",
   "execution_count": 2,
   "id": "01abba5f",
   "metadata": {},
   "outputs": [
    {
     "name": "stderr",
     "output_type": "stream",
     "text": [
      "C:\\Users\\Amanda\\AppData\\Local\\Temp\\ipykernel_15368\\2831825917.py:5: LangChainDeprecationWarning: The class `HuggingFaceEmbeddings` was deprecated in LangChain 0.2.2 and will be removed in 1.0. An updated version of the class exists in the :class:`~langchain-huggingface package and should be used instead. To use it run `pip install -U :class:`~langchain-huggingface` and import as `from :class:`~langchain_huggingface import HuggingFaceEmbeddings``.\n",
      "  embeddings = CommunityHuggingFaceEmbeddings(model_name=\"sentence-transformers/all-MiniLM-L6-v2\")\n"
     ]
    }
   ],
   "source": [
    "load_dotenv()\n",
    "pc = Pinecone(api_key=os.getenv(\"PINECONE_API_KEY\"))\n",
    "index_name = \"travel-assistant-index\"\n",
    "index = pc.Index(index_name)\n",
    "embeddings = CommunityHuggingFaceEmbeddings(model_name=\"sentence-transformers/all-MiniLM-L6-v2\")"
   ]
  },
  {
   "cell_type": "code",
   "execution_count": 3,
   "id": "d6b2b14d",
   "metadata": {},
   "outputs": [
    {
     "name": "stdout",
     "output_type": "stream",
     "text": [
      "Divididos 5 documentos em 10 chunks.\n",
      "Lote 1 enviado.\n"
     ]
    }
   ],
   "source": [
    "data_dir = \"./data\"\n",
    "documents = []\n",
    "for filename in os.listdir(data_dir):\n",
    "    if filename.endswith(\".txt\"):\n",
    "        file_path = os.path.join(data_dir, filename)\n",
    "        loader = TextLoader(file_path, encoding=\"utf-8\")\n",
    "        documents.extend(loader.load())\n",
    "\n",
    "text_splitter = RecursiveCharacterTextSplitter(chunk_size=1000, chunk_overlap=200)\n",
    "docs = text_splitter.split_documents(documents)\n",
    "print(f\"Divididos {len(documents)} documentos em {len(docs)} chunks.\")\n",
    "\n",
    "vectors = []\n",
    "for i, doc in enumerate(docs):\n",
    "    embedding = embeddings.embed_query(doc.page_content)\n",
    "    vector = {\n",
    "        \"id\": f\"doc-{i}\",\n",
    "        \"values\": embedding,\n",
    "        \"metadata\": {\"source\": doc.metadata.get(\"source\"), \"text\": doc.page_content}\n",
    "    }\n",
    "    vectors.append(vector)\n",
    "\n",
    "batch_size = 100\n",
    "for i in range(0, len(vectors), batch_size):\n",
    "    batch = vectors[i:i+batch_size]\n",
    "    index.upsert(vectors=batch)\n",
    "    print(f\"Lote {i//batch_size + 1} enviado.\")"
   ]
  }
 ],
 "metadata": {
  "kernelspec": {
   "display_name": "Projeto de Viagem",
   "language": "python",
   "name": "guia_inteligente_viagem"
  },
  "language_info": {
   "codemirror_mode": {
    "name": "ipython",
    "version": 3
   },
   "file_extension": ".py",
   "mimetype": "text/x-python",
   "name": "python",
   "nbconvert_exporter": "python",
   "pygments_lexer": "ipython3",
   "version": "3.10.18"
  }
 },
 "nbformat": 4,
 "nbformat_minor": 5
}
